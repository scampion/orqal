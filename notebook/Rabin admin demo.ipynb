{
 "cells": [
  {
   "cell_type": "code",
   "execution_count": 6,
   "metadata": {},
   "outputs": [],
   "source": [
    "# not mandatory, for dev only\n",
    "import sys\n",
    "sys.path.extend(['..'])"
   ]
  },
  {
   "cell_type": "markdown",
   "metadata": {},
   "source": [
    "# Dataset\n",
    "\n",
    "Select your data \n"
   ]
  },
  {
   "cell_type": "code",
   "execution_count": 2,
   "metadata": {},
   "outputs": [
    {
     "data": {
      "text/plain": [
       "(438287,\n",
       " {'_id': 'a000d096a0129af9786b7f8587c3110e',\n",
       "  'path': '/database/malware_feed/2017-02-10/a000d096a0129af9786b7f8587c3110e',\n",
       "  'rabin2': {'arch': 'x86',\n",
       "   'baddr': '0x400000',\n",
       "   'binsz': '249801',\n",
       "   'bintype': 'pe',\n",
       "   'bits': '32',\n",
       "   'canary': 'false',\n",
       "   'class': 'PE32',\n",
       "   'cmp_csum': '0x0004162a',\n",
       "   'crypto': 'false',\n",
       "   'endian': 'little',\n",
       "   'havecode': 'true',\n",
       "   'hdr_csum': '0x00000000',\n",
       "   'laddr': '0x0',\n",
       "   'linenum': 'true',\n",
       "   'lsyms': 'true',\n",
       "   'machine': 'i386',\n",
       "   'maxopsz': '16',\n",
       "   'minopsz': '1',\n",
       "   'nx': 'false',\n",
       "   'os': 'windows',\n",
       "   'overlay': 'true',\n",
       "   'pcalign': '0',\n",
       "   'pic': 'false',\n",
       "   'relocs': 'true',\n",
       "   'retguard': 'false',\n",
       "   'sanitiz': 'false',\n",
       "   'signed': 'false',\n",
       "   'static': 'false',\n",
       "   'stripped': 'true',\n",
       "   'va': 'true'},\n",
       "  'src': 'malware_feed'})"
      ]
     },
     "execution_count": 2,
     "metadata": {},
     "output_type": "execute_result"
    }
   ],
   "source": [
    "from pymongo import MongoClient\n",
    "\n",
    "client = MongoClient('mongodb://madlab:27017/')\n",
    "dataset = [ r for r in client.madlab.dataset.find()]\n",
    "len(dataset), dataset[10]"
   ]
  },
  {
   "cell_type": "markdown",
   "metadata": {},
   "source": [
    "# List services\n",
    "\n",
    "\n",
    "\n",
    "\n"
   ]
  },
  {
   "cell_type": "code",
   "execution_count": 7,
   "metadata": {},
   "outputs": [
    {
     "data": {
      "text/plain": [
       "['AbstractWorker',\n",
       " 'Rabin2',\n",
       " 'SCDG_Extraction',\n",
       " 'Test',\n",
       " 'TestProd',\n",
       " 'VirusTotal']"
      ]
     },
     "execution_count": 7,
     "metadata": {},
     "output_type": "execute_result"
    }
   ],
   "source": [
    "import madlab\n",
    "madlab.services "
   ]
  },
  {
   "cell_type": "markdown",
   "metadata": {},
   "source": [
    "# Launch jobs\n",
    "we limit to 100 in this demo "
   ]
  },
  {
   "cell_type": "code",
   "execution_count": 4,
   "metadata": {},
   "outputs": [
    {
     "data": {
      "text/plain": [
       "{'_id': 'a000d096a0129af9786b7f8587c3110e',\n",
       " 'path': '/database/malware_feed/2017-02-10/a000d096a0129af9786b7f8587c3110e',\n",
       " 'rabin2': {'arch': 'x86',\n",
       "  'baddr': '0x400000',\n",
       "  'binsz': '249801',\n",
       "  'bintype': 'pe',\n",
       "  'bits': '32',\n",
       "  'canary': 'false',\n",
       "  'class': 'PE32',\n",
       "  'cmp_csum': '0x0004162a',\n",
       "  'crypto': 'false',\n",
       "  'endian': 'little',\n",
       "  'havecode': 'true',\n",
       "  'hdr_csum': '0x00000000',\n",
       "  'laddr': '0x0',\n",
       "  'linenum': 'true',\n",
       "  'lsyms': 'true',\n",
       "  'machine': 'i386',\n",
       "  'maxopsz': '16',\n",
       "  'minopsz': '1',\n",
       "  'nx': 'false',\n",
       "  'os': 'windows',\n",
       "  'overlay': 'true',\n",
       "  'pcalign': '0',\n",
       "  'pic': 'false',\n",
       "  'relocs': 'true',\n",
       "  'retguard': 'false',\n",
       "  'sanitiz': 'false',\n",
       "  'signed': 'false',\n",
       "  'static': 'false',\n",
       "  'stripped': 'true',\n",
       "  'va': 'true'},\n",
       " 'src': 'malware_feed'}"
      ]
     },
     "execution_count": 4,
     "metadata": {},
     "output_type": "execute_result"
    }
   ],
   "source": [
    " dataset[10]"
   ]
  },
  {
   "cell_type": "code",
   "execution_count": 48,
   "metadata": {},
   "outputs": [],
   "source": [
    "from madlab import Job, , batch, wait\n",
    "\n",
    "# sequential submit\n",
    "jobs = [Job(app=\"Rabin2\", input=b['path'], params={}) for b in dataset[:10]]"
   ]
  },
  {
   "cell_type": "code",
   "execution_count": 49,
   "metadata": {},
   "outputs": [],
   "source": [
    "# // batch submit\n",
    "jobs = [Job(app=\"Rabin2\", input=b['path'], params={}, start=False) for b in dataset[:10]]\n",
    "jobs = list(batch(jobs))"
   ]
  },
  {
   "cell_type": "markdown",
   "metadata": {},
   "source": [
    "# Wait"
   ]
  },
  {
   "cell_type": "code",
   "execution_count": null,
   "metadata": {},
   "outputs": [],
   "source": [
    "wait(jobs)"
   ]
  },
  {
   "cell_type": "markdown",
   "metadata": {},
   "source": [
    "# Explore results\n",
    "Here with the second file "
   ]
  },
  {
   "cell_type": "code",
   "execution_count": null,
   "metadata": {},
   "outputs": [],
   "source": [
    "j = jobs[2]\n",
    "str(j.__dict__), j.stderr, j.result, j.current_status"
   ]
  },
  {
   "cell_type": "markdown",
   "metadata": {},
   "source": [
    "# ADMIN ONLY !!!!!!\n",
    "## update dataset "
   ]
  },
  {
   "cell_type": "code",
   "execution_count": null,
   "metadata": {},
   "outputs": [],
   "source": [
    "for i, j in enumerate(jobs):\n",
    "    print(\"INPUT : \", j.input)\n",
    "    if j.result:\n",
    "        client.madlab.dataset.update_one({'path': j.input}, {'$set': {\"rabin2\": j.result}}, upsert=True)"
   ]
  }
 ],
 "metadata": {
  "kernelspec": {
   "display_name": "Python 3",
   "language": "python",
   "name": "python3"
  },
  "language_info": {
   "codemirror_mode": {
    "name": "ipython",
    "version": 3
   },
   "file_extension": ".py",
   "mimetype": "text/x-python",
   "name": "python",
   "nbconvert_exporter": "python",
   "pygments_lexer": "ipython3",
   "version": "3.6.4"
  }
 },
 "nbformat": 4,
 "nbformat_minor": 2
}
