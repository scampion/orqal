{
 "cells": [
  {
   "cell_type": "code",
   "execution_count": 40,
   "metadata": {},
   "outputs": [
    {
     "data": {
      "text/plain": [
       "438287"
      ]
     },
     "execution_count": 40,
     "metadata": {},
     "output_type": "execute_result"
    }
   ],
   "source": [
    "import sys\n",
    "sys.path.extend(['..'])\n",
    "\n",
    "from madlab import Job, batch, wait, services\n",
    "from pymongo import MongoClient\n",
    "\n",
    "client = MongoClient('mongodb://madlab:27017/')\n",
    "dataset = [ r for r in client.madlab.dataset.find()]\n",
    "len(dataset)"
   ]
  },
  {
   "cell_type": "code",
   "execution_count": 45,
   "metadata": {},
   "outputs": [],
   "source": [
    "p = {\n",
    "    \"max_mem\" : 10,\n",
    "    \"timeout\" : 3600,\n",
    "    \"step_timeout\" : 8,\n",
    "    \"loop_threshold\" : -1,\n",
    "    \"max_size\" : -1,\n",
    "    \"symb_loop_threshold\" : 4,\n",
    "    \"max_active_paths\" : 8\n",
    "}"
   ]
  },
  {
   "cell_type": "code",
   "execution_count": 43,
   "metadata": {},
   "outputs": [],
   "source": [
    "jobs = [Job(app=\"SCDG\", input=b['path'], params=p, start=True) for b in dataset[100:120]]\n",
    "wait(jobs)"
   ]
  },
  {
   "cell_type": "code",
   "execution_count": null,
   "metadata": {},
   "outputs": [],
   "source": [
    "j = Job(app=\"SCDG\", input=\"/database/malware_feed/2017-02-10/a007e2a1c16ac262878e7f9230d6a8c6\", params=p, start=True) \n",
    "wait([j])\n",
    "j, str(j.__dict__), j.stderr, j.result, j.current_status"
   ]
  }
 ],
 "metadata": {
  "kernelspec": {
   "display_name": "Python 3",
   "language": "python",
   "name": "python3"
  },
  "language_info": {
   "codemirror_mode": {
    "name": "ipython",
    "version": 3
   },
   "file_extension": ".py",
   "mimetype": "text/x-python",
   "name": "python",
   "nbconvert_exporter": "python",
   "pygments_lexer": "ipython3",
   "version": "3.6.4"
  }
 },
 "nbformat": 4,
 "nbformat_minor": 2
}
