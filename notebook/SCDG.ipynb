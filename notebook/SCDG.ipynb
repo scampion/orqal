{
 "cells": [
  {
   "cell_type": "markdown",
   "metadata": {},
   "source": [
    "# SCDG Extraction tutorial\n",
    "\n"
   ]
  },
  {
   "cell_type": "code",
   "execution_count": 56,
   "metadata": {},
   "outputs": [
    {
     "data": {
      "text/plain": [
       "438287"
      ]
     },
     "execution_count": 56,
     "metadata": {},
     "output_type": "execute_result"
    }
   ],
   "source": [
    "# Only for dev otherwise install madlab with pip install madlab \n",
    "import sys\n",
    "sys.path.extend(['..'])\n",
    "\n",
    "\n",
    "from madlab import Job, batch, wait, services\n",
    "from pymongo import MongoClient\n",
    "\n",
    "client = MongoClient('mongodb://madlab:27017/')\n",
    "dataset = [ r for r in client.madlab.dataset.find()]\n",
    "len(dataset)"
   ]
  },
  {
   "cell_type": "code",
   "execution_count": 57,
   "metadata": {},
   "outputs": [],
   "source": [
    "p = {\n",
    "    \"max_mem\" : 10,\n",
    "    \"timeout\" : 3600,\n",
    "    \"step_timeout\" : 8,\n",
    "    \"loop_threshold\" : -1,\n",
    "    \"max_size\" : -1,\n",
    "    \"symb_loop_threshold\" : 4,\n",
    "    \"max_active_paths\" : 8\n",
    "}"
   ]
  },
  {
   "cell_type": "markdown",
   "metadata": {},
   "source": [
    "## Test with one file "
   ]
  },
  {
   "cell_type": "code",
   "execution_count": 58,
   "metadata": {},
   "outputs": [
    {
     "data": {
      "text/plain": [
       "(Job 5cac48aea307b22fded0839a | app: SCDG | input: /database/malware_feed/2017-02-10/a007e2a1c16ac262878e7f9230d6a8c6 | status: exited\n",
       " stdout :\n",
       " --------------------------------------------------------------------------------\n",
       " \u001b[31;1mDeprecation warning: Use main_object instead of main_bin\u001b[0m\n",
       " {\"name\": \"GetShellWindow\", \"address\": 5475038, \"addrs\": [\"0x401025\", \"0x538ade\"], \"lib\": \"user32.dll\", \"stub\": false, \"section\": \"_text\", \"arguments\": [], \"return\": \"unconstrained_ret_GetShellWindow_3_32\", \"memory\": \"363.1MiB\", \"runtime\": 102.70031809806824, \"step\": 10, \"state_nb\": 10, \"gid\": 1, \"parent\": 0}\n",
       " {\"name\": \"VirtualAlloc\", \"address\": 5475032, \"addrs\": [\"0x40103c\", \"0x538ad8\"], \"lib\": \"kernel32.dll\", \"stub\": false, \"section\": \"_text\", \"arguments\": [{\"value\": [0]}, {\"value\": [61440]}, {\"value\": [12288]}, {\"value\": [64]}], \"return\": 3221762048, \"memory\": \"369.2MiB\", \"runtime\": 120.70047903060913, \"step\": 21, \"state_nb\": 21, \"gid\": 2, \"parent\": 1}\n",
       " {\"hashes\": {\"md5\": \"a007e2a1c16ac262878e7f9230d6a8c6\", \"sha1\": \"ac9a29a1fb3187bef668c57fef5a2347a228bbac\", \"sha256\": \"f246863bbcf55ab0d548ffe87fecc62af55a9ae418f2caf5de669e86f82f10da\", \"sha512\": \"a58f73c5f0cca18ed1314775483f0ee48f6f2f92a67c9c2910b30942af0c8c67a45060ac11a135417ef15c62620aecd99eddad7de8ae3397efb3650c07577fdd\"}, \"config\": {\"step_timeout\": 8, \"max_active_paths\": 8, \"loop_threshold\": -1, \"max_mem\": 10, \"symb_loop_threshold\": 4, \"timeout\": 3600, \"max_size\": -1, \"log_level\": \"INFO\"}, \"version\": {\"full\": \"0.31.madlab-v2.627d\", \"commit\": \"f54b38924078036d0999379810b5884f109457c0\", \"cannonical\": \"0.31.madlab-v2\"}, \"filepath\": \"/database/malware_feed/2017-02-10/a007e2a1c16ac262878e7f9230d6a8c6\", \"date\": \"2019-04-09 07:16:09.718569\", \"metrics\": {\"calls\": {\"_id\": \"38b35999e25632dbc1408a8d2ffed388\", \"nb_calls\": 2, \"nb_unique_calls\": 2}, \"trace\": {\"_id\": \"2ecbaaed2511b92666d5ce294913bf7b\", \"nb_traces\": 1, \"trace_len\": {\"min\": 2, \"max\": 2}}}, \"time\": 665.400171995163, \"calls\": {\"filepath\": \"/database/malware_feed/2017-02-10/a007e2a1c16ac262878e7f9230d6a8c6\", \"max_memory_used\": \"417.5MiB\", \"stop_cause\": \"No more traces to explore\", \"sha1\": \"ac9a29a1fb3187bef668c57fef5a2347a228bbac\", \"calls\": [{\"name\": \"GetShellWindow\", \"address\": 5475038, \"addrs\": [\"0x401025\", \"0x538ade\"], \"lib\": \"user32.dll\", \"stub\": false, \"section\": \"_text\", \"arguments\": [], \"return\": \"unconstrained_ret_GetShellWindow_3_32\", \"memory\": \"363.1MiB\", \"runtime\": 102.70031809806824, \"step\": 10, \"state_nb\": 10, \"gid\": 1, \"parent\": 0, \"trace_end\": false}, {\"name\": \"VirtualAlloc\", \"address\": 5475032, \"addrs\": [\"0x40103c\", \"0x538ad8\"], \"lib\": \"kernel32.dll\", \"stub\": false, \"section\": \"_text\", \"arguments\": [{\"value\": [0]}, {\"value\": [61440]}, {\"value\": [12288]}, {\"value\": [64]}], \"return\": 3221762048, \"memory\": \"369.2MiB\", \"runtime\": 120.70047903060913, \"step\": 21, \"state_nb\": 21, \"gid\": 2, \"parent\": 1, \"trace_end\": true}], \"size\": 3, \"stashes_sizes\": {\"active\": 0, \"stashed\": 0, \"pruned\": 0, \"unsat\": 0, \"errored\": 0, \"deadended\": 1, \"unconstrained\": 0}, \"sections\": {\"_text\": {\"visited_addrs\": [4198405, 4198410, 4198411, 4198417, 4198422, 4198427, 4198432, 4198437, 4198442, 4198443, 4198444, 4198445, 4198446, 4198448, 4198453, 4198458, 4198460, 4198465, 5443292, 5443297, 5443303, 5443308, 5443313, 5443315, 5443317, 5443322, 5443324, 5443325, 5443327, 5443328, 5443330, 5443331, 5443332, 5443333, 5443334, 5443335, 5443336, 5443339, 5443351, 5443370, 5443372, 5443377, 5443382, 5475032, 5475038], \"size\": 1277952, \"coverage\": 0.00011894030448717948}}, \"failed_steps\": [5443334], \"total_states_number\": 1135, \"loops\": {\"concrete\": 79, \"symbolic\": 0}, \"step_number\": 1136}},\n",
       " '{\\'_id\\': \\'5cac48aea307b22fded0839a\\', \\'app\\': \\'SCDG\\', \\'input\\': \\'/database/malware_feed/2017-02-10/a007e2a1c16ac262878e7f9230d6a8c6\\', \\'params\\': {\\'symb_loop_threshold\\': 4, \\'max_size\\': -1, \\'max_active_paths\\': 8, \\'step_timeout\\': 8, \\'max_mem\\': 10, \\'loop_threshold\\': -1, \\'timeout\\': 3600}, \\'current_status\\': \\'exited\\', \\'container\\': None, \\'stdout\\': [\\'\\\\x1b[31;1mDeprecation warning: Use main_object instead of main_bin\\\\x1b[0m\\', \\'{\"name\": \"GetShellWindow\", \"address\": 5475038, \"addrs\": [\"0x401025\", \"0x538ade\"], \"lib\": \"user32.dll\", \"stub\": false, \"section\": \"_text\", \"arguments\": [], \"return\": \"unconstrained_ret_GetShellWindow_3_32\", \"memory\": \"363.1MiB\", \"runtime\": 102.70031809806824, \"step\": 10, \"state_nb\": 10, \"gid\": 1, \"parent\": 0}\\', \\'{\"name\": \"VirtualAlloc\", \"address\": 5475032, \"addrs\": [\"0x40103c\", \"0x538ad8\"], \"lib\": \"kernel32.dll\", \"stub\": false, \"section\": \"_text\", \"arguments\": [{\"value\": [0]}, {\"value\": [61440]}, {\"value\": [12288]}, {\"value\": [64]}], \"return\": 3221762048, \"memory\": \"369.2MiB\", \"runtime\": 120.70047903060913, \"step\": 21, \"state_nb\": 21, \"gid\": 2, \"parent\": 1}\\', \\'{\"hashes\": {\"md5\": \"a007e2a1c16ac262878e7f9230d6a8c6\", \"sha1\": \"ac9a29a1fb3187bef668c57fef5a2347a228bbac\", \"sha256\": \"f246863bbcf55ab0d548ffe87fecc62af55a9ae418f2caf5de669e86f82f10da\", \"sha512\": \"a58f73c5f0cca18ed1314775483f0ee48f6f2f92a67c9c2910b30942af0c8c67a45060ac11a135417ef15c62620aecd99eddad7de8ae3397efb3650c07577fdd\"}, \"config\": {\"step_timeout\": 8, \"max_active_paths\": 8, \"loop_threshold\": -1, \"max_mem\": 10, \"symb_loop_threshold\": 4, \"timeout\": 3600, \"max_size\": -1, \"log_level\": \"INFO\"}, \"version\": {\"full\": \"0.31.madlab-v2.627d\", \"commit\": \"f54b38924078036d0999379810b5884f109457c0\", \"cannonical\": \"0.31.madlab-v2\"}, \"filepath\": \"/database/malware_feed/2017-02-10/a007e2a1c16ac262878e7f9230d6a8c6\", \"date\": \"2019-04-09 07:16:09.718569\", \"metrics\": {\"calls\": {\"_id\": \"38b35999e25632dbc1408a8d2ffed388\", \"nb_calls\": 2, \"nb_unique_calls\": 2}, \"trace\": {\"_id\": \"2ecbaaed2511b92666d5ce294913bf7b\", \"nb_traces\": 1, \"trace_len\": {\"min\": 2, \"max\": 2}}}, \"time\": 665.400171995163, \"calls\": {\"filepath\": \"/database/malware_feed/2017-02-10/a007e2a1c16ac262878e7f9230d6a8c6\", \"max_memory_used\": \"417.5MiB\", \"stop_cause\": \"No more traces to explore\", \"sha1\": \"ac9a29a1fb3187bef668c57fef5a2347a228bbac\", \"calls\": [{\"name\": \"GetShellWindow\", \"address\": 5475038, \"addrs\": [\"0x401025\", \"0x538ade\"], \"lib\": \"user32.dll\", \"stub\": false, \"section\": \"_text\", \"arguments\": [], \"return\": \"unconstrained_ret_GetShellWindow_3_32\", \"memory\": \"363.1MiB\", \"runtime\": 102.70031809806824, \"step\": 10, \"state_nb\": 10, \"gid\": 1, \"parent\": 0, \"trace_end\": false}, {\"name\": \"VirtualAlloc\", \"address\": 5475032, \"addrs\": [\"0x40103c\", \"0x538ad8\"], \"lib\": \"kernel32.dll\", \"stub\": false, \"section\": \"_text\", \"arguments\": [{\"value\": [0]}, {\"value\": [61440]}, {\"value\": [12288]}, {\"value\": [64]}], \"return\": 3221762048, \"memory\": \"369.2MiB\", \"runtime\": 120.70047903060913, \"step\": 21, \"state_nb\": 21, \"gid\": 2, \"parent\": 1, \"trace_end\": true}], \"size\": 3, \"stashes_sizes\": {\"active\": 0, \"stashed\": 0, \"pruned\": 0, \"unsat\": 0, \"errored\": 0, \"deadended\": 1, \"unconstrained\": 0}, \"sections\": {\"_text\": {\"visited_addrs\": [4198405, 4198410, 4198411, 4198417, 4198422, 4198427, 4198432, 4198437, 4198442, 4198443, 4198444, 4198445, 4198446, 4198448, 4198453, 4198458, 4198460, 4198465, 5443292, 5443297, 5443303, 5443308, 5443313, 5443315, 5443317, 5443322, 5443324, 5443325, 5443327, 5443328, 5443330, 5443331, 5443332, 5443333, 5443334, 5443335, 5443336, 5443339, 5443351, 5443370, 5443372, 5443377, 5443382, 5475032, 5475038], \"size\": 1277952, \"coverage\": 0.00011894030448717948}}, \"failed_steps\": [5443334], \"total_states_number\": 1135, \"loops\": {\"concrete\": 79, \"symbolic\": 0}, \"step_number\": 1136}}\\', \\'\\'], \\'stderr\\': [\"\\\\x1b[37mscdg.extractor\\\\x1b[0m: INFO   | \\\\x1b[37mExtract call with parameters (\\'/database/malware_feed/2017-02-10/a007e2a1c16ac262878e7f9230d6a8c6\\', -1, 3600, 8, 8, 10)\\\\x1b[0m\", \\'\\\\x1b[37mscdg.extractor\\\\x1b[0m: WARNING | \\\\x1b[37mProcedure VerSetConditionMask in DLL kernel32.dll has 3 arguments in json and 4 arguments in angr prototype. Taking number of arguments from json.\\\\x1b[0m\\', \\'\\\\x1b[37mscdg.extractor\\\\x1b[0m: WARNING | \\\\x1b[37mProcedure VerifyVersionInfoA in DLL kernel32.dll has 3 arguments in json and 4 arguments in angr prototype. Taking number of arguments from json.\\\\x1b[0m\\', \\'\\\\x1b[37mscdg.extractor\\\\x1b[0m: WARNING | \\\\x1b[37mProcedure VerifyVersionInfoW in DLL kernel32.dll has 3 arguments in json and 4 arguments in angr prototype. Taking number of arguments from json.\\\\x1b[0m\\', \\'\\\\x1b[37mscdg.extractor\\\\x1b[0m: WARNING | \\\\x1b[37mProcedure SetFileValidData in DLL kernel32.dll has 2 arguments in json and 3 arguments in angr prototype. Taking number of arguments from json.\\\\x1b[0m\\', \\'\\\\x1b[37mscdg.extractor\\\\x1b[0m: WARNING | \\\\x1b[37mProcedure GetDurationFormat in DLL kernel32.dll has 7 arguments in json and 8 arguments in angr prototype. Taking number of arguments from json.\\\\x1b[0m\\', \\'\\\\x1b[37mscdg.extractor\\\\x1b[0m: WARNING | \\\\x1b[37mProcedure GetDurationFormatEx in DLL kernel32.dll has 7 arguments in json and 8 arguments in angr prototype. Taking number of arguments from json.\\\\x1b[0m\\', \\'\\\\x1b[37mscdg.extractor\\\\x1b[0m: WARNING | \\\\x1b[37mProcedure SetXStateFeaturesMask in DLL kernel32.dll has 2 arguments in json and 3 arguments in angr prototype. Taking number of arguments from json.\\\\x1b[0m\\', \\'\\\\x1b[37mscdg.extractor\\\\x1b[0m: WARNING | \\\\x1b[37mProcedure EnableThreadProfiling in DLL kernel32.dll has 4 arguments in json and 5 arguments in angr prototype. Taking number of arguments from json.\\\\x1b[0m\\', \\'\\\\x1b[37mscdg.extractor\\\\x1b[0m: WARNING | \\\\x1b[37mProcedure SetFilePointerEx in DLL kernel32.dll has 4 arguments in json and 5 arguments in angr prototype. Taking number of arguments from json.\\\\x1b[0m\\', \\'\\\\x1b[37mscdg.extractor\\\\x1b[0m: ERROR  | \\\\x1b[37mState <SimState @ 0x530f06> not finished within timeout\\\\x1b[0m\\', \\'\\\\x1b[37mscdg.extractor\\\\x1b[0m: INFO   | \\\\x1b[37mactive pathgroup len 0 | size 3 | stopped_because: No more traces to explore\\\\x1b[0m\\', \\'\\'], \\'result\\': None, \\'ctime\\': {\\'$date\\': 1554801870912}, \\'wd\\': \\'/scratch/jobs/5cac48aea307b22fded0839a\\', \\'inspect\\': None, \\'cmd\\': \\'python /code/src/interfaces/cli.py /database/malware_feed/2017-02-10/a007e2a1c16ac262878e7f9230d6a8c6 params.json\\', \\'image\\': \\'madlab:5000/scdg/madlab-v2:latest\\', \\'host\\': \\'http://192.168.100.51:2376\\'}',\n",
       " [\"\\x1b[37mscdg.extractor\\x1b[0m: INFO   | \\x1b[37mExtract call with parameters ('/database/malware_feed/2017-02-10/a007e2a1c16ac262878e7f9230d6a8c6', -1, 3600, 8, 8, 10)\\x1b[0m\",\n",
       "  '\\x1b[37mscdg.extractor\\x1b[0m: WARNING | \\x1b[37mProcedure VerSetConditionMask in DLL kernel32.dll has 3 arguments in json and 4 arguments in angr prototype. Taking number of arguments from json.\\x1b[0m',\n",
       "  '\\x1b[37mscdg.extractor\\x1b[0m: WARNING | \\x1b[37mProcedure VerifyVersionInfoA in DLL kernel32.dll has 3 arguments in json and 4 arguments in angr prototype. Taking number of arguments from json.\\x1b[0m',\n",
       "  '\\x1b[37mscdg.extractor\\x1b[0m: WARNING | \\x1b[37mProcedure VerifyVersionInfoW in DLL kernel32.dll has 3 arguments in json and 4 arguments in angr prototype. Taking number of arguments from json.\\x1b[0m',\n",
       "  '\\x1b[37mscdg.extractor\\x1b[0m: WARNING | \\x1b[37mProcedure SetFileValidData in DLL kernel32.dll has 2 arguments in json and 3 arguments in angr prototype. Taking number of arguments from json.\\x1b[0m',\n",
       "  '\\x1b[37mscdg.extractor\\x1b[0m: WARNING | \\x1b[37mProcedure GetDurationFormat in DLL kernel32.dll has 7 arguments in json and 8 arguments in angr prototype. Taking number of arguments from json.\\x1b[0m',\n",
       "  '\\x1b[37mscdg.extractor\\x1b[0m: WARNING | \\x1b[37mProcedure GetDurationFormatEx in DLL kernel32.dll has 7 arguments in json and 8 arguments in angr prototype. Taking number of arguments from json.\\x1b[0m',\n",
       "  '\\x1b[37mscdg.extractor\\x1b[0m: WARNING | \\x1b[37mProcedure SetXStateFeaturesMask in DLL kernel32.dll has 2 arguments in json and 3 arguments in angr prototype. Taking number of arguments from json.\\x1b[0m',\n",
       "  '\\x1b[37mscdg.extractor\\x1b[0m: WARNING | \\x1b[37mProcedure EnableThreadProfiling in DLL kernel32.dll has 4 arguments in json and 5 arguments in angr prototype. Taking number of arguments from json.\\x1b[0m',\n",
       "  '\\x1b[37mscdg.extractor\\x1b[0m: WARNING | \\x1b[37mProcedure SetFilePointerEx in DLL kernel32.dll has 4 arguments in json and 5 arguments in angr prototype. Taking number of arguments from json.\\x1b[0m',\n",
       "  '\\x1b[37mscdg.extractor\\x1b[0m: ERROR  | \\x1b[37mState <SimState @ 0x530f06> not finished within timeout\\x1b[0m',\n",
       "  '\\x1b[37mscdg.extractor\\x1b[0m: INFO   | \\x1b[37mactive pathgroup len 0 | size 3 | stopped_because: No more traces to explore\\x1b[0m',\n",
       "  ''],\n",
       " None,\n",
       " 'exited')"
      ]
     },
     "execution_count": 58,
     "metadata": {},
     "output_type": "execute_result"
    }
   ],
   "source": [
    "j = Job(app=\"SCDG\", input=\"/database/malware_feed/2017-02-10/a007e2a1c16ac262878e7f9230d6a8c6\", params=p, start=True) \n",
    "wait([j])\n",
    "j, str(j.__dict__), j.stderr, j.result, j.current_status"
   ]
  },
  {
   "cell_type": "markdown",
   "metadata": {},
   "source": [
    "## Test with 20 files from dataset "
   ]
  },
  {
   "cell_type": "code",
   "execution_count": 43,
   "metadata": {},
   "outputs": [],
   "source": [
    "# jobs = [Job(app=\"SCDG\", input=b['path'], params=p, start=True) for b in dataset[100:120]]\n",
    "# wait(jobs)"
   ]
  }
 ],
 "metadata": {
  "kernelspec": {
   "display_name": "Python 3",
   "language": "python",
   "name": "python3"
  },
  "language_info": {
   "codemirror_mode": {
    "name": "ipython",
    "version": 3
   },
   "file_extension": ".py",
   "mimetype": "text/x-python",
   "name": "python",
   "nbconvert_exporter": "python",
   "pygments_lexer": "ipython3",
   "version": "3.6.4"
  }
 },
 "nbformat": 4,
 "nbformat_minor": 2
}
