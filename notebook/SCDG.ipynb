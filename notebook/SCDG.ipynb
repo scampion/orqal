{
 "cells": [
  {
   "cell_type": "markdown",
   "metadata": {},
   "source": [
    "# SCDG Extraction tutorial\n",
    "\n"
   ]
  },
  {
   "cell_type": "code",
   "execution_count": 21,
   "metadata": {},
   "outputs": [
    {
     "data": {
      "text/plain": [
       "(438287,\n",
       " ['AbstractWorker',\n",
       "  'Rabin2',\n",
       "  'SCDG',\n",
       "  'SCDG_Extraction',\n",
       "  'Test',\n",
       "  'TestProd',\n",
       "  'VirusTotal'])"
      ]
     },
     "execution_count": 21,
     "metadata": {},
     "output_type": "execute_result"
    }
   ],
   "source": [
    "# Only for dev otherwise install madlab with pip install madlab \n",
    "import sys\n",
    "sys.path.extend(['..'])\n",
    "\n",
    "\n",
    "from madlab import Job, batch, wait, services\n",
    "from pymongo import MongoClient\n",
    "\n",
    "client = MongoClient('mongodb://madlab.irisa.fr:27017/')\n",
    "dataset = [ r for r in client.madlab.dataset.find()]\n",
    "len(dataset), services"
   ]
  },
  {
   "cell_type": "code",
   "execution_count": 10,
   "metadata": {},
   "outputs": [],
   "source": [
    "p = {\n",
    "    \"max_mem\" : 10,\n",
    "    \"timeout\" : 3600,\n",
    "    \"step_timeout\" : 8,\n",
    "    \"loop_threshold\" : -1,\n",
    "    \"max_size\" : -1,\n",
    "    \"symb_loop_threshold\" : 4,\n",
    "    \"max_active_paths\" : 8\n",
    "}"
   ]
  },
  {
   "cell_type": "markdown",
   "metadata": {},
   "source": [
    "## Test with one file "
   ]
  },
  {
   "cell_type": "code",
   "execution_count": 13,
   "metadata": {},
   "outputs": [
    {
     "data": {
      "text/plain": [
       "(Job 5caf3f54a307b21cdd13515d | app: SCDG | input: /database/malware_feed/2017-02-10/a007e2a1c16ac262878e7f9230d6a8c6 | status: exited\n",
       " stdout :\n",
       " --------------------------------------------------------------------------------\n",
       " \u001b[31;1mDeprecation warning: Use main_object instead of main_bin\u001b[0m\n",
       " {\"name\": \"GetShellWindow\", \"address\": 5475038, \"addrs\": [\"0x401025\", \"0x538ade\"], \"lib\": \"user32.dll\", \"stub\": false, \"section\": \"_text\", \"arguments\": [], \"return\": \"unconstrained_ret_GetShellWindow_3_32\", \"memory\": \"361.5MiB\", \"runtime\": 1.4538178443908691, \"step\": 10, \"state_nb\": 10, \"gid\": 1, \"parent\": 0}\n",
       " {\"name\": \"VirtualAlloc\", \"address\": 5475032, \"addrs\": [\"0x40103c\", \"0x538ad8\"], \"lib\": \"kernel32.dll\", \"stub\": false, \"section\": \"_text\", \"arguments\": [{\"value\": [0]}, {\"value\": [61440]}, {\"value\": [12288]}, {\"value\": [64]}], \"return\": 3221762048, \"memory\": \"367.7MiB\", \"runtime\": 1.6840720176696777, \"step\": 21, \"state_nb\": 21, \"gid\": 2, \"parent\": 1},\n",
       " '{\\'_id\\': \\'5caf3f54a307b21cdd13515d\\', \\'app\\': \\'SCDG\\', \\'input\\': \\'/database/malware_feed/2017-02-10/a007e2a1c16ac262878e7f9230d6a8c6\\', \\'params\\': {\\'timeout\\': 3600, \\'max_active_paths\\': 8, \\'loop_threshold\\': -1, \\'step_timeout\\': 8, \\'max_size\\': -1, \\'symb_loop_threshold\\': 4, \\'max_mem\\': 10}, \\'current_status\\': \\'exited\\', \\'container\\': None, \\'stdout\\': [\\'\\\\x1b[31;1mDeprecation warning: Use main_object instead of main_bin\\\\x1b[0m\\', \\'{\"name\": \"GetShellWindow\", \"address\": 5475038, \"addrs\": [\"0x401025\", \"0x538ade\"], \"lib\": \"user32.dll\", \"stub\": false, \"section\": \"_text\", \"arguments\": [], \"return\": \"unconstrained_ret_GetShellWindow_3_32\", \"memory\": \"361.5MiB\", \"runtime\": 1.4538178443908691, \"step\": 10, \"state_nb\": 10, \"gid\": 1, \"parent\": 0}\\', \\'{\"name\": \"VirtualAlloc\", \"address\": 5475032, \"addrs\": [\"0x40103c\", \"0x538ad8\"], \"lib\": \"kernel32.dll\", \"stub\": false, \"section\": \"_text\", \"arguments\": [{\"value\": [0]}, {\"value\": [61440]}, {\"value\": [12288]}, {\"value\": [64]}], \"return\": 3221762048, \"memory\": \"367.7MiB\", \"runtime\": 1.6840720176696777, \"step\": 21, \"state_nb\": 21, \"gid\": 2, \"parent\": 1}\\', \\'\\'], \\'stderr\\': [\\'2019-04-11 13:09:52,015 - repo_syscall - INFO - Writing log to calls.json.log\\', \"2019-04-11 13:09:52,055 - scdg.extractor - INFO - Extract call with parameters (\\'/database/malware_feed/2017-02-10/a007e2a1c16ac262878e7f9230d6a8c6\\', -1, 3600, 8, 8, 10)\", \\'2019-04-11 13:09:52,514 - scdg.extractor - WARNING - Procedure VerSetConditionMask in DLL kernel32.dll has 3 arguments in json and 4 arguments in angr prototype. Taking number of arguments from json.\\', \\'2019-04-11 13:09:52,575 - scdg.extractor - WARNING - Procedure VerifyVersionInfoA in DLL kernel32.dll has 3 arguments in json and 4 arguments in angr prototype. Taking number of arguments from json.\\', \\'2019-04-11 13:09:52,576 - scdg.extractor - WARNING - Procedure VerifyVersionInfoW in DLL kernel32.dll has 3 arguments in json and 4 arguments in angr prototype. Taking number of arguments from json.\\', \\'2019-04-11 13:09:52,623 - scdg.extractor - WARNING - Procedure SetFileValidData in DLL kernel32.dll has 2 arguments in json and 3 arguments in angr prototype. Taking number of arguments from json.\\', \\'2019-04-11 13:09:52,630 - scdg.extractor - WARNING - Procedure GetDurationFormat in DLL kernel32.dll has 7 arguments in json and 8 arguments in angr prototype. Taking number of arguments from json.\\', \\'2019-04-11 13:09:52,720 - scdg.extractor - WARNING - Procedure GetDurationFormatEx in DLL kernel32.dll has 7 arguments in json and 8 arguments in angr prototype. Taking number of arguments from json.\\', \\'2019-04-11 13:09:52,746 - scdg.extractor - WARNING - Procedure SetXStateFeaturesMask in DLL kernel32.dll has 2 arguments in json and 3 arguments in angr prototype. Taking number of arguments from json.\\', \\'2019-04-11 13:09:52,755 - scdg.extractor - WARNING - Procedure EnableThreadProfiling in DLL kernel32.dll has 4 arguments in json and 5 arguments in angr prototype. Taking number of arguments from json.\\', \\'2019-04-11 13:09:52,778 - scdg.extractor - WARNING - Procedure SetFilePointerEx in DLL kernel32.dll has 4 arguments in json and 5 arguments in angr prototype. Taking number of arguments from json.\\', \\'2019-04-11 13:19:40,249 - scdg.extractor - INFO - active pathgroup len 1 | size 3 | stopped_because: Memory consumption above limit\\', \\'Traceback (most recent call last):\\', \\'  File \"/code/src/interfaces/cli.py\", line 280, in <module>\\', \\'    main(args)\\', \\'  File \"/code/src/interfaces/cli.py\", line 258, in main\\', \\'    f.write(calls)\\', \\'TypeError: expected a character buffer object\\', \\'\\'], \\'result\\': None, \\'ctime\\': {\\'$date\\': 1554996084401}, \\'wd\\': \\'/scratch/jobs/5caf3f54a307b21cdd13515d\\', \\'inspect\\': None, \\'cmd\\': \\'python /code/src/interfaces/cli.py /database/malware_feed/2017-02-10/a007e2a1c16ac262878e7f9230d6a8c6 params.json -o calls.json\\', \\'image\\': \\'madlab:5000/scdg/madlab-v2:latest\\', \\'host\\': \\'http://192.168.100.51:2376\\'}',\n",
       " ['2019-04-11 13:09:52,015 - repo_syscall - INFO - Writing log to calls.json.log',\n",
       "  \"2019-04-11 13:09:52,055 - scdg.extractor - INFO - Extract call with parameters ('/database/malware_feed/2017-02-10/a007e2a1c16ac262878e7f9230d6a8c6', -1, 3600, 8, 8, 10)\",\n",
       "  '2019-04-11 13:09:52,514 - scdg.extractor - WARNING - Procedure VerSetConditionMask in DLL kernel32.dll has 3 arguments in json and 4 arguments in angr prototype. Taking number of arguments from json.',\n",
       "  '2019-04-11 13:09:52,575 - scdg.extractor - WARNING - Procedure VerifyVersionInfoA in DLL kernel32.dll has 3 arguments in json and 4 arguments in angr prototype. Taking number of arguments from json.',\n",
       "  '2019-04-11 13:09:52,576 - scdg.extractor - WARNING - Procedure VerifyVersionInfoW in DLL kernel32.dll has 3 arguments in json and 4 arguments in angr prototype. Taking number of arguments from json.',\n",
       "  '2019-04-11 13:09:52,623 - scdg.extractor - WARNING - Procedure SetFileValidData in DLL kernel32.dll has 2 arguments in json and 3 arguments in angr prototype. Taking number of arguments from json.',\n",
       "  '2019-04-11 13:09:52,630 - scdg.extractor - WARNING - Procedure GetDurationFormat in DLL kernel32.dll has 7 arguments in json and 8 arguments in angr prototype. Taking number of arguments from json.',\n",
       "  '2019-04-11 13:09:52,720 - scdg.extractor - WARNING - Procedure GetDurationFormatEx in DLL kernel32.dll has 7 arguments in json and 8 arguments in angr prototype. Taking number of arguments from json.',\n",
       "  '2019-04-11 13:09:52,746 - scdg.extractor - WARNING - Procedure SetXStateFeaturesMask in DLL kernel32.dll has 2 arguments in json and 3 arguments in angr prototype. Taking number of arguments from json.',\n",
       "  '2019-04-11 13:09:52,755 - scdg.extractor - WARNING - Procedure EnableThreadProfiling in DLL kernel32.dll has 4 arguments in json and 5 arguments in angr prototype. Taking number of arguments from json.',\n",
       "  '2019-04-11 13:09:52,778 - scdg.extractor - WARNING - Procedure SetFilePointerEx in DLL kernel32.dll has 4 arguments in json and 5 arguments in angr prototype. Taking number of arguments from json.',\n",
       "  '2019-04-11 13:19:40,249 - scdg.extractor - INFO - active pathgroup len 1 | size 3 | stopped_because: Memory consumption above limit',\n",
       "  'Traceback (most recent call last):',\n",
       "  '  File \"/code/src/interfaces/cli.py\", line 280, in <module>',\n",
       "  '    main(args)',\n",
       "  '  File \"/code/src/interfaces/cli.py\", line 258, in main',\n",
       "  '    f.write(calls)',\n",
       "  'TypeError: expected a character buffer object',\n",
       "  ''],\n",
       " None,\n",
       " 'exited')"
      ]
     },
     "execution_count": 13,
     "metadata": {},
     "output_type": "execute_result"
    }
   ],
   "source": [
    "j = Job(app=\"SCDG\", input=\"/database/malware_feed/2017-02-10/a007e2a1c16ac262878e7f9230d6a8c6\", params=p, start=True) \n",
    "wait([j])\n",
    "j, str(j.__dict__), j.stderr, j.result, j.current_status"
   ]
  },
  {
   "cell_type": "markdown",
   "metadata": {},
   "source": [
    "## Test with 20 files from dataset "
   ]
  },
  {
   "cell_type": "code",
   "execution_count": 26,
   "metadata": {},
   "outputs": [],
   "source": [
    "jobs = [Job(app=\"SCDG\", input=b['path'], params=p) for b in dataset[0:10]]"
   ]
  },
  {
   "cell_type": "code",
   "execution_count": 28,
   "metadata": {},
   "outputs": [],
   "source": [
    "exp = batch(jobs, name='scamp_test')"
   ]
  },
  {
   "cell_type": "code",
   "execution_count": 93,
   "metadata": {},
   "outputs": [],
   "source": [
    "jobs2 = batch([Job(app=\"SCDG\", input=b['path'], params=p) for b in dataset[1:20]])\n"
   ]
  },
  {
   "cell_type": "code",
   "execution_count": 94,
   "metadata": {},
   "outputs": [
    {
     "data": {
      "text/plain": [
       "[Job 5cad9d40a307b205f8439f03 | app: SCDG | input: /database/malware_feed/2017-02-10/a0002534fcc89e94c4663cd9979a5b2b | status: None,\n",
       " Job 5cad9d40a307b205f8439f04 | app: SCDG | input: /database/malware_feed/2017-02-10/a00029d347c71b48c9efb1c671e90ca0 | status: None,\n",
       " Job 5cad9d40a307b205f8439f05 | app: SCDG | input: /database/malware_feed/2017-02-10/a0004ca9a8dd0eda195ba43aa1c19ae9 | status: None,\n",
       " Job 5cad9d40a307b205f8439f06 | app: SCDG | input: /database/malware_feed/2017-02-10/a000615032aa35d596f6907210741fc3 | status: None,\n",
       " Job 5cad9d40a307b205f8439f07 | app: SCDG | input: /database/malware_feed/2017-02-10/a0006f76b331775a5c658aba54890042 | status: None,\n",
       " Job 5cad9d40a307b205f8439f08 | app: SCDG | input: /database/malware_feed/2017-02-10/a00070ac219bb72e00ebb476022a7fd5 | status: None,\n",
       " Job 5cad9d40a307b205f8439f09 | app: SCDG | input: /database/malware_feed/2017-02-10/a00099bb0c832fc347f31bd9296b5a43 | status: None,\n",
       " Job 5cad9d40a307b205f8439f0a | app: SCDG | input: /database/malware_feed/2017-02-10/a0009b713d73649c74e205d5f76a923c | status: None,\n",
       " Job 5cad9d40a307b205f8439f0b | app: SCDG | input: /database/malware_feed/2017-02-10/a000ba8bc8271d7ec8ec37d8a3bd6461 | status: None,\n",
       " Job 5cad9d40a307b205f8439f0c | app: SCDG | input: /database/malware_feed/2017-02-10/a000d096a0129af9786b7f8587c3110e | status: None,\n",
       " Job 5cad9d40a307b205f8439f0d | app: SCDG | input: /database/malware_feed/2017-02-10/a000d2b69c87a6d79f02f683160bdc34 | status: None,\n",
       " Job 5cad9d40a307b205f8439f0e | app: SCDG | input: /database/malware_feed/2017-02-10/a000ec51b41358405e813f8333e44f4f | status: None,\n",
       " Job 5cad9d40a307b205f8439f0f | app: SCDG | input: /database/malware_feed/2017-02-10/a000f45bf2bf94349becefadff5aeebc | status: None,\n",
       " Job 5cad9d40a307b205f8439f10 | app: SCDG | input: /database/malware_feed/2017-02-10/a00106fbebd312ae9bd29e655a9c6f24 | status: None,\n",
       " Job 5cad9d40a307b205f8439f11 | app: SCDG | input: /database/malware_feed/2017-02-10/a0010ad20d34bf4a84811d745aa6dc46 | status: None,\n",
       " Job 5cad9d40a307b205f8439f12 | app: SCDG | input: /database/malware_feed/2017-02-10/a0010cde23443228b8756b7b42e5b243 | status: None,\n",
       " Job 5cad9d40a307b205f8439f13 | app: SCDG | input: /database/malware_feed/2017-02-10/a00115fc0f273d602da2a7b8bce8eb08 | status: None,\n",
       " Job 5cad9d40a307b205f8439f14 | app: SCDG | input: /database/malware_feed/2017-02-10/a00116af733053757807404673cea5c3 | status: None,\n",
       " Job 5cad9d40a307b205f8439f15 | app: SCDG | input: /database/malware_feed/2017-02-10/a0012d894d016638b637d2e78e322949 | status: None]"
      ]
     },
     "execution_count": 94,
     "metadata": {},
     "output_type": "execute_result"
    }
   ],
   "source": [
    "jobs2"
   ]
  }
 ],
 "metadata": {
  "kernelspec": {
   "display_name": "Python 3",
   "language": "python",
   "name": "python3"
  },
  "language_info": {
   "codemirror_mode": {
    "name": "ipython",
    "version": 3
   },
   "file_extension": ".py",
   "mimetype": "text/x-python",
   "name": "python",
   "nbconvert_exporter": "python",
   "pygments_lexer": "ipython3",
   "version": "3.6.4"
  }
 },
 "nbformat": 4,
 "nbformat_minor": 2
}
